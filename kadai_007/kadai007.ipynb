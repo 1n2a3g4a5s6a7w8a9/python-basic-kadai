{
  "nbformat": 4,
  "nbformat_minor": 0,
  "metadata": {
    "colab": {
      "provenance": []
    },
    "kernelspec": {
      "name": "python3",
      "display_name": "Python 3"
    },
    "language_info": {
      "name": "python"
    }
  },
  "cells": [
    {
      "cell_type": "code",
      "execution_count": 3,
      "metadata": {
        "colab": {
          "base_uri": "https://localhost:8080/"
        },
        "id": "fY9NqrCP5x8p",
        "outputId": "82179f2d-381f-41b9-fba6-3508ac40634c"
      },
      "outputs": [
        {
          "output_type": "stream",
          "name": "stdout",
          "text": [
            "水曜日は晴れです\n",
            "晴れ\n"
          ]
        }
      ],
      "source": [
        "list = [\n",
        "\"月曜日は晴れです\",\n",
        "\"火曜日は雨です\",\n",
        "\"水曜日は晴れです\",\n",
        "\"木曜日は晴れです\",\n",
        "\"金曜日は曇りです\",\n",
        "\"土曜日は曇りのち雨です\",\n",
        "\"日曜日は雷雨です\"]\n",
        "\n",
        "dictionary = {\n",
        "\"mon\":\"晴れ\",\n",
        "\"tue\":\"雨\",\n",
        "\"wed\":\"晴れ\",\n",
        "\"thu\":\"晴れ\",\n",
        "\"fri\":\"曇り\",\n",
        "\"sat\":\"曇りのち雨\",\n",
        "\"sun\":\"雷雨\",\n",
        "}\n",
        "\n",
        "print(list[2])\n",
        "print(dictionary[\"wed\"])"
      ]
    }
  ]
}