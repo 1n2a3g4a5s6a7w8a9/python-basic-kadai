{
  "nbformat": 4,
  "nbformat_minor": 0,
  "metadata": {
    "colab": {
      "provenance": []
    },
    "kernelspec": {
      "name": "python3",
      "display_name": "Python 3"
    },
    "language_info": {
      "name": "python"
    }
  },
  "cells": [
    {
      "cell_type": "code",
      "execution_count": 1,
      "metadata": {
        "colab": {
          "base_uri": "https://localhost:8080/"
        },
        "id": "2eiYbkWGuSTs",
        "outputId": "f1fcc554-db96-43fe-e5c7-5cfaf7f8b99f"
      },
      "outputs": [
        {
          "output_type": "stream",
          "name": "stdout",
          "text": [
            "台形の面積は75.0㎠です\n"
          ]
        }
      ],
      "source": [
        "'''\n",
        "上底：１０ｃｍ\n",
        "下底：２０ｃｍ\n",
        "高さ：５ｃｍ\n",
        "公式：台形の面積　＝　（上底　＋　下底）×　高さ　÷　２\n",
        "'''\n",
        "num = (10 + 20) * 5 / 2\n",
        "print(f\"台形の面積は{num}㎠です\")"
      ]
    }
  ]
}