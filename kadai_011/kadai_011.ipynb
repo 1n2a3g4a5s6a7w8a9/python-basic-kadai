{
  "nbformat": 4,
  "nbformat_minor": 0,
  "metadata": {
    "colab": {
      "provenance": []
    },
    "kernelspec": {
      "name": "python3",
      "display_name": "Python 3"
    },
    "language_info": {
      "name": "python"
    }
  },
  "cells": [
    {
      "cell_type": "code",
      "execution_count": null,
      "metadata": {
        "id": "Fn-8RIH1OXFv"
      },
      "outputs": [],
      "source": [
        "list = [\"水\",\"金\",\"地\",\"火\",\"木\",\"土\",\"天\",\"海\",\"冥\"]\n",
        "\n",
        "#for文の場合\n",
        "for planet in list:\n",
        "    print(planet)\n",
        "\n",
        "#while文の場合\n",
        "i = 0\n",
        "while list[i]  != \"？\":\n",
        "    print(list[i])\n",
        "\n",
        "    if list[i] == \"冥\" :\n",
        "        break\n",
        "\n",
        "    i = i + 1"
      ]
    }
  ]
}